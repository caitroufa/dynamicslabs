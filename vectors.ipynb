{
 "cells": [
  {
   "cell_type": "markdown",
   "id": "707bac10-4347-4da5-ab87-c96d1f1849bd",
   "metadata": {},
   "source": [
    "# Dynamics Python Labs\n",
    "### Created by Cait Roufa\n",
    "### Lab 1 - Vector Operations"
   ]
  },
  {
   "cell_type": "markdown",
   "id": "95751198-a20a-426b-be3c-57c242b494e4",
   "metadata": {},
   "source": [
    "Push the play button or use the keyboard, pressing command + enter (mac) or ctrl + enter (windows) to run an individual cell.\n",
    "\n",
    "Feel free to change numbers and play around with these functions. The more you explore, the more you will learn about dynamics and computation in python."
   ]
  },
  {
   "cell_type": "code",
   "execution_count": null,
   "id": "4f0a8748-37d2-43b3-9b19-83bb5361aa2d",
   "metadata": {},
   "outputs": [],
   "source": [
    "# import packages\n",
    "\n",
    "import numpy as np\n",
    "from matplotlib import pyplot as plt"
   ]
  },
  {
   "cell_type": "markdown",
   "id": "7846c516-ebf5-47d1-bec5-082e08f446d9",
   "metadata": {},
   "source": [
    "We will be practicing vector operations using python. Vectors in python are easily manipulated using the numpy library using the structure: np.array([x,y,z])."
   ]
  },
  {
   "cell_type": "code",
   "execution_count": null,
   "id": "894d482e-4e62-4e9a-bffe-b368e2142617",
   "metadata": {},
   "outputs": [],
   "source": [
    "# assign values to vectors\n",
    "\n",
    "A1 = np.array([2, 4, 1])\n",
    "A2 = np.array([3, 6, 2])\n",
    "A3 = np.array([-5, 1, 8])\n",
    "A4 = np.array([4, -3, 7])"
   ]
  },
  {
   "cell_type": "markdown",
   "id": "34438a33-bc24-4f4e-a8aa-5497ddbdb2be",
   "metadata": {},
   "source": [
    "Let's create a 3d plot of our vectors."
   ]
  },
  {
   "cell_type": "code",
   "execution_count": null,
   "id": "79e9dac4-442d-4341-b7fc-f0dbf5e7f98c",
   "metadata": {},
   "outputs": [],
   "source": [
    "# plotting vectors\n",
    "\n",
    "fig = plt.figure()\n",
    "ax = fig.add_subplot(111, projection='3d') #111 is default, see add_subplot documentation for details\n",
    "\n",
    "# the first 3 values are the origin, the last 3 are the indices of the vector\n",
    "# recall that indexing in python starts at 0, not 1\n",
    "ax.quiver(0,0,0, A1[0],A1[1],A1[2], color='r')\n",
    "ax.quiver(0,0,0, A2[0],A2[1],A2[2], color='g')\n",
    "ax.quiver(0,0,0, A3[0],A3[1],A3[2], color='b')\n",
    "ax.quiver(0,0,0, A4[0],A4[1],A4[2], color='c')\n",
    "\n",
    "# set your axes limits to get a better view of your vectors\n",
    "ax.set_xlim(-5, 8)\n",
    "ax.set_ylim(-5, 8)\n",
    "ax.set_zlim(0, 8)"
   ]
  },
  {
   "cell_type": "markdown",
   "id": "a3d3af4e-cd4e-4859-8d2d-58ebeb9490c0",
   "metadata": {},
   "source": [
    "### Vector Addition and Subtraction"
   ]
  },
  {
   "cell_type": "code",
   "execution_count": null,
   "id": "ea411912-dbf9-4b88-ad69-419e95d992e8",
   "metadata": {},
   "outputs": [],
   "source": [
    "# vector addition\n",
    "\n",
    "sum12 = A1 + A2\n",
    "print(sum12) # you can also type \"sum12\" to print the array"
   ]
  },
  {
   "cell_type": "code",
   "execution_count": null,
   "id": "5d632b78-01f8-4a6b-8761-057d0cdb5636",
   "metadata": {},
   "outputs": [],
   "source": [
    "# vector subtraction\n",
    "\n",
    "diff12 = A1 - A2\n",
    "diff12"
   ]
  },
  {
   "cell_type": "markdown",
   "id": "0e7f7a1d-676a-4fd9-83d6-a2fe94521acf",
   "metadata": {},
   "source": [
    "Lets plot our new vectors with the old."
   ]
  },
  {
   "cell_type": "code",
   "execution_count": null,
   "id": "8f9680a1-94f2-46ba-a1ee-29baf02fadca",
   "metadata": {},
   "outputs": [],
   "source": [
    "# plot A1, A2, sum12, diff12\n",
    "\n",
    "fig = plt.figure()\n",
    "ax = fig.add_subplot(111, projection='3d') #111 is default, see add_subplot documentation for details\n",
    "\n",
    "# the first 3 values are the origin, the last 3 are the indices of the vector\n",
    "ax.quiver(0,0,0, A1[0],A1[1],A1[2], color='r')\n",
    "ax.quiver(0,0,0, A2[0],A2[1],A2[2], color='g')\n",
    "ax.quiver(0,0,0, sum12[0],sum12[1],sum12[2], color='b')\n",
    "ax.quiver(0,0,0, diff12[0],diff12[1],diff12[2], color='c')\n",
    "\n",
    "# set your axes limits to get a better view of your vectors\n",
    "ax.set_xlim(-1, 5)\n",
    "ax.set_ylim(-2, 10)\n",
    "ax.set_zlim(-1, 3)"
   ]
  },
  {
   "cell_type": "markdown",
   "id": "e9cb18f6-6aac-4386-965a-5b0d52f8a5c0",
   "metadata": {},
   "source": [
    "### Vector Multiplication and Division"
   ]
  },
  {
   "cell_type": "code",
   "execution_count": null,
   "id": "cd28d423-fb4a-4e5f-8b92-436ed89146d2",
   "metadata": {},
   "outputs": [],
   "source": [
    "# vector multiplication\n",
    "\n",
    "product12 = A1 * A2\n",
    "# alternatively can use np.multiply(A1,A2)\n",
    "\n",
    "product12"
   ]
  },
  {
   "cell_type": "code",
   "execution_count": null,
   "id": "b9991794-cebb-4349-ad0a-434905e1aada",
   "metadata": {},
   "outputs": [],
   "source": [
    "# vector division\n",
    "\n",
    "quotient12 = A1 / A2\n",
    "# alternatively can use np.divide(A1,A2)\n",
    "\n",
    "quotient12 # note you will get an error if dividing by 0, yeilding a nan value"
   ]
  },
  {
   "cell_type": "code",
   "execution_count": null,
   "id": "7ee490d6-d577-419e-9c8c-3eae873592d8",
   "metadata": {},
   "outputs": [],
   "source": [
    "# plot A1, A2, product12, quotient12\n",
    "\n",
    "fig = plt.figure()\n",
    "ax = fig.add_subplot(111, projection='3d') #111 is default, see add_subplot documentation for details\n",
    "\n",
    "# the first 3 values are the origin, the last 3 are the indices of the vector\n",
    "ax.quiver(0,0,0, A1[0],A1[1],A1[2], color='r')\n",
    "ax.quiver(0,0,0, A2[0],A2[1],A2[2], color='g')\n",
    "ax.quiver(0,0,0, product12[0],product12[1],product12[2], color='b')\n",
    "ax.quiver(0,0,0, quotient12[0],quotient12[1],quotient12[2], color='c')\n",
    "\n",
    "# set your axes limits to get a better view of your vectors\n",
    "ax.set_xlim(-1, 6)\n",
    "ax.set_ylim(-2, 24)\n",
    "ax.set_zlim(-1, 3)"
   ]
  },
  {
   "cell_type": "markdown",
   "id": "bded75c6-edb4-40d7-a736-7bd2798704da",
   "metadata": {},
   "source": [
    "### Wind Directions\n",
    "Let's look at some 2d wind vectors and directions. Recall that vectors have both magnitude AND direction. So we need to find angles for our wind vectors."
   ]
  },
  {
   "cell_type": "code",
   "execution_count": null,
   "id": "8e6cfbb4-4e4d-49c2-aac6-66040200c03b",
   "metadata": {},
   "outputs": [],
   "source": [
    "# assign vectors\n",
    "B1 = np.array([4,0])\n",
    "B2 = np.array([0,5])"
   ]
  },
  {
   "cell_type": "code",
   "execution_count": null,
   "id": "3edbef7d-bd07-4fb9-8b81-f4d0808aa17a",
   "metadata": {},
   "outputs": [],
   "source": [
    "# calculate magnitude\n",
    "\n",
    "sumB12 = B1 + B2\n",
    "\n",
    "# pythagorean theorem\n",
    "magB = np.sqrt(sumB12[0]**2 + sumB12[1]**2)\n",
    "\n",
    "print(sumB12, magB)"
   ]
  },
  {
   "cell_type": "code",
   "execution_count": null,
   "id": "435bc47f-e25e-4843-a417-5a3fa7186ef7",
   "metadata": {},
   "outputs": [],
   "source": [
    "# calculate direction\n",
    "\n",
    "# inverse tangent (arc tangent) of the opposite side divided by the adjacent side\n",
    "# the arctan fucntion is for degrees, arctan2 function is for radians\n",
    "dir12 = np.degrees(np.arctan(B2[1]/B1[0]))\n",
    "\n",
    "print(dir12)"
   ]
  },
  {
   "cell_type": "markdown",
   "id": "9982d4ec-e357-40bf-a3f2-532d5eb231df",
   "metadata": {},
   "source": [
    "Note that this direction is in degrees East of North rather than degrees from the circle origin 0; however, these values match for this example since our vector is in the first quadrant of our x,y coordinate plane. If the vector points in a different quadrant, you will need to add and/or subtract 90 degrees one or more times.\n",
    "\n",
    "The MetPy package has several built in functions for calculating wind vectors including components, magnitudes, and directions. You have already used these in synoptic."
   ]
  },
  {
   "cell_type": "code",
   "execution_count": null,
   "id": "1c974770-7e5d-4961-90af-7ecf87aa8cac",
   "metadata": {},
   "outputs": [],
   "source": [
    "# plot vectors\n",
    "\n",
    "fig, ax = plt.subplots()\n",
    "\n",
    "# add the angles, scale_units, and scale arguments to ensure that the vector arrows stay correct size despite window size\n",
    "ax.quiver(0,0, B1[0],B1[1], angles='xy', scale_units='xy', scale=1, color='c') # x component\n",
    "ax.quiver(0,0, B2[0],B2[1], angles='xy', scale_units='xy', scale=1, color='m') # y component\n",
    "ax.quiver(0,0, sumB12[0],sumB12[1], angles='xy', scale_units='xy', scale=1, color='b') # resultant vector\n",
    "\n",
    "# set the plot limits so we can see the vectors\n",
    "plt.xlim(-1,5)\n",
    "plt.ylim(-1,5)\n",
    "\n",
    "plt.grid()"
   ]
  },
  {
   "cell_type": "markdown",
   "id": "b2ece445-d142-4949-8b6d-0dc89a150e88",
   "metadata": {},
   "source": [
    "### Cross Products and Dot Products"
   ]
  },
  {
   "cell_type": "code",
   "execution_count": null,
   "id": "1b7dc700-eb26-44fa-bd92-e460a8878264",
   "metadata": {},
   "outputs": [],
   "source": [
    "# dot product\n",
    "\n",
    "dot12 = np.dot(A1,A2)\n",
    "\n",
    "print(A1)\n",
    "print(A2)\n",
    "print(dot12)"
   ]
  },
  {
   "cell_type": "code",
   "execution_count": null,
   "id": "45706baa-fc3a-4868-83bc-186477782d8f",
   "metadata": {},
   "outputs": [],
   "source": [
    "# cross product\n",
    "\n",
    "cross12 = np.cross(A1,A2)\n",
    "\n",
    "print(A1)\n",
    "print(A2)\n",
    "print(cross12)"
   ]
  },
  {
   "cell_type": "markdown",
   "id": "6746cf4a-212b-4ac3-b314-9f1a80de158c",
   "metadata": {},
   "source": [
    "Notice how your dot product gives a single value (scalar) and your cross product gives an array (vector). You can combine vector operations, but be mindful of order of operations and use parentheses appropriately."
   ]
  },
  {
   "cell_type": "code",
   "execution_count": null,
   "id": "c7dfeb06-ccd3-43b2-a510-fc41e307e3af",
   "metadata": {},
   "outputs": [],
   "source": [
    "# homework example\n",
    "#A dot (B X C)\n",
    "A = np.array([-3,4,6])\n",
    "B = np.array([-5,0,7])\n",
    "C = np.array([-7,0,5])\n",
    "\n",
    "example = np.cross(B,C)\n",
    "print(example)\n",
    "\n",
    "example1 = np.dot(A,np.cross(B,C))\n",
    "print(example1)"
   ]
  },
  {
   "cell_type": "markdown",
   "id": "db7e3a2f-ebf5-473e-aa98-57b26506d413",
   "metadata": {},
   "source": [
    "### Challenge!\n",
    "\n",
    "Find sounding data in list text format from: https://weather.uwyo.edu/upperair/sounding.html for any single date and time that you wish. Copy and paste this text into excell, click on the data table and sort text to columns. You may have to edit the title tabs. Save as a .csv file and make sure that it is saved or uploaded into the same directory as this notebook.\n",
    "\n",
    "Load in the data using xarray or pandas.\n",
    "\n",
    "Then use the wind data to calculate the u and v wind components from the wind magnitude (variable: SKNT in knots) and direction (variable: DRCT in degrees)."
   ]
  },
  {
   "cell_type": "code",
   "execution_count": null,
   "id": "5cd34bf5-7f10-4ffc-b9de-cfc52c57e168",
   "metadata": {},
   "outputs": [],
   "source": [
    "# import the pandas package\n",
    "\n",
    "import pandas as pd"
   ]
  },
  {
   "cell_type": "code",
   "execution_count": null,
   "id": "c59b7d0e-a00c-46b1-8fa4-a0b2b183ffc0",
   "metadata": {},
   "outputs": [],
   "source": [
    "# read in the file\n",
    "# be sure to replace the file path with your file path and name\n",
    "\n",
    "df = pd.read_csv('/home/croufa/dynamicslabs/8.28.00Zsounding.csv/')"
   ]
  },
  {
   "cell_type": "code",
   "execution_count": null,
   "id": "fcb8e546-80e5-43a1-8772-1e4465723d85",
   "metadata": {},
   "outputs": [],
   "source": [
    "# let's calculate the wind components\n",
    "\n",
    "# take the magnitude of the wind vector and multiply by the cosine of the wind direction angle\n",
    "# divide by 2 to convert from knots to m/s\n",
    "\n",
    "u = df['SKNT'] * np.cosine('DRCT') / 2.\n",
    "\n",
    "u"
   ]
  },
  {
   "cell_type": "code",
   "execution_count": null,
   "id": "566d9395-8cf9-48a8-a03c-97a0893695f6",
   "metadata": {},
   "outputs": [],
   "source": [
    "# take the magnitude of the wind vector and multiply by the sine of the wind direction angle\n",
    "# divide by 2 to convert from knots to m/s\n",
    "\n",
    "v = df['SKNT']* np.sine('DRCT') / 2.\n",
    "\n",
    "v"
   ]
  },
  {
   "cell_type": "code",
   "execution_count": null,
   "id": "48763d75-6f8b-4122-8a97-dd1a3709c395",
   "metadata": {},
   "outputs": [],
   "source": [
    "# alternative method using metpy\n",
    "import metpy as mp\n",
    "\n",
    "# assign u and v to new columns in the sounding csv\n",
    "# metpy wind_components function takes arguments speed, wind direction\n",
    "df['U'], df['V'] = mp.wind_components(df[SKNT], df[DRCT])\n",
    "\n",
    "df # should now show columns with 'U' and 'V' for the wind"
   ]
  }
 ],
 "metadata": {
  "kernelspec": {
   "display_name": "Python [conda env:pyEAE]",
   "language": "python",
   "name": "conda-env-pyEAE-py"
  },
  "language_info": {
   "codemirror_mode": {
    "name": "ipython",
    "version": 3
   },
   "file_extension": ".py",
   "mimetype": "text/x-python",
   "name": "python",
   "nbconvert_exporter": "python",
   "pygments_lexer": "ipython3",
   "version": "3.9.13"
  }
 },
 "nbformat": 4,
 "nbformat_minor": 5
}
